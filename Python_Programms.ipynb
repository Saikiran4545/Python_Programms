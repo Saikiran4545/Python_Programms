{
  "nbformat": 4,
  "nbformat_minor": 0,
  "metadata": {
    "colab": {
      "provenance": [],
      "authorship_tag": "ABX9TyOrRfE2IplcLFr5zLS+3bVJ",
      "include_colab_link": true
    },
    "kernelspec": {
      "name": "python3",
      "display_name": "Python 3"
    },
    "language_info": {
      "name": "python"
    }
  },
  "cells": [
    {
      "cell_type": "markdown",
      "metadata": {
        "id": "view-in-github",
        "colab_type": "text"
      },
      "source": [
        "<a href=\"https://colab.research.google.com/github/Saikiran4545/Python_Programms/blob/main/Python_Programms.ipynb\" target=\"_parent\"><img src=\"https://colab.research.google.com/assets/colab-badge.svg\" alt=\"Open In Colab\"/></a>"
      ]
    },
    {
      "cell_type": "code",
      "execution_count": 1,
      "metadata": {
        "colab": {
          "base_uri": "https://localhost:8080/"
        },
        "id": "N5L9BvmpvunC",
        "outputId": "67f04071-f7d8-49c1-c32a-6c77ad08dcd9"
      },
      "outputs": [
        {
          "output_type": "stream",
          "name": "stdout",
          "text": [
            "Hello World\n"
          ]
        }
      ],
      "source": [
        "# ProgrammeNo:- 1 :- \n",
        "#print Hello World\n",
        "print(\"Hello World\")"
      ]
    },
    {
      "cell_type": "code",
      "source": [
        "# ProgrammeNo:- 2 :- \n",
        "# Five is greater than two\n",
        "if 5 > 2 :\n",
        " print(\"Five is greater than Two\")"
      ],
      "metadata": {
        "colab": {
          "base_uri": "https://localhost:8080/"
        },
        "id": "di6pzneKxWtr",
        "outputId": "057a6759-0e65-48ce-8f56-bb1a72519b22"
      },
      "execution_count": 4,
      "outputs": [
        {
          "output_type": "stream",
          "name": "stdout",
          "text": [
            "Five is greater than Two\n"
          ]
        }
      ]
    },
    {
      "cell_type": "code",
      "source": [
        "# ProgrammeNo:- 3 :- \n",
        "#Five is greater than two\n",
        "if 5>2 :\n",
        " print(\"Five is greater than two\")\n",
        " if 5>2 :  \n",
        "    print(\"Five is greater than two\")"
      ],
      "metadata": {
        "colab": {
          "base_uri": "https://localhost:8080/"
        },
        "id": "Uz17W7iOyICR",
        "outputId": "93593870-83b6-41ea-8506-bdb90ecc2c18"
      },
      "execution_count": 10,
      "outputs": [
        {
          "output_type": "stream",
          "name": "stdout",
          "text": [
            "Five is greater than two\n",
            "Five is greater than two\n"
          ]
        }
      ]
    },
    {
      "cell_type": "code",
      "source": [
        "# ProgrammeNo:- 4 :-\n",
        "# Variables\n",
        "x=5\n",
        "y= \"Sai\" \n",
        "print(x)\n",
        "print(y)"
      ],
      "metadata": {
        "colab": {
          "base_uri": "https://localhost:8080/"
        },
        "id": "K7fHOA7gzmDD",
        "outputId": "55b1a2fe-c651-4a30-a245-2c7c369ae9b5"
      },
      "execution_count": 11,
      "outputs": [
        {
          "output_type": "stream",
          "name": "stdout",
          "text": [
            "5\n",
            "Sai\n"
          ]
        }
      ]
    },
    {
      "cell_type": "code",
      "source": [
        "# ProgrammeNo:- 5 :-\n",
        "x = 4         # int\n",
        "x = \"SAI\"     #String\n",
        "print(x)"
      ],
      "metadata": {
        "colab": {
          "base_uri": "https://localhost:8080/"
        },
        "id": "LDQQbsBX06yM",
        "outputId": "df7c6f76-fd75-4cdd-d0c3-38e065c997b6"
      },
      "execution_count": 12,
      "outputs": [
        {
          "output_type": "stream",
          "name": "stdout",
          "text": [
            "SAI\n"
          ]
        }
      ]
    },
    {
      "cell_type": "code",
      "source": [
        "# ProgrammeNo:- 6 :-\n",
        "x = 5\n",
        "y = \"Sai\"\n",
        "print(type(x))\n",
        "print(type(y))"
      ],
      "metadata": {
        "colab": {
          "base_uri": "https://localhost:8080/"
        },
        "id": "H1ScGUzv10SC",
        "outputId": "dbcdec41-b5a7-47f3-e4e8-941172038a6e"
      },
      "execution_count": 13,
      "outputs": [
        {
          "output_type": "stream",
          "name": "stdout",
          "text": [
            "<class 'int'>\n",
            "<class 'str'>\n"
          ]
        }
      ]
    },
    {
      "cell_type": "code",
      "source": [
        "# ProgrammeNo:- 7 :-\n",
        "a = 4\n",
        "A = \"SAI\"\n",
        "print(a)\n",
        "print(A)  # a will not overwrite A"
      ],
      "metadata": {
        "colab": {
          "base_uri": "https://localhost:8080/"
        },
        "id": "bSmHWFXh2Viq",
        "outputId": "23d33308-4179-48ad-fb7a-c02588a3723f"
      },
      "execution_count": 14,
      "outputs": [
        {
          "output_type": "stream",
          "name": "stdout",
          "text": [
            "4\n",
            "SAI\n"
          ]
        }
      ]
    },
    {
      "cell_type": "code",
      "source": [
        "# ProgrammeNo:- 8 :-\n",
        "x , y , z = \"Orange\" , \"Banana\" , \"Apple\"\n",
        "print(x)\n",
        "print(y)\n",
        "print(z)"
      ],
      "metadata": {
        "colab": {
          "base_uri": "https://localhost:8080/"
        },
        "id": "5uxIFbxZ3Edx",
        "outputId": "eecfde37-d29a-4457-bbf6-7ff03e2a9fb4"
      },
      "execution_count": 16,
      "outputs": [
        {
          "output_type": "stream",
          "name": "stdout",
          "text": [
            "Orange\n",
            "Banana\n",
            "Apple\n"
          ]
        }
      ]
    },
    {
      "cell_type": "code",
      "source": [
        "# ProgrammeNo:- 9:-\n",
        "x = y = z = \"Orange\"\n",
        "print(x)\n",
        "print(y)\n",
        "print(z)"
      ],
      "metadata": {
        "colab": {
          "base_uri": "https://localhost:8080/"
        },
        "id": "TgBVE_1839M_",
        "outputId": "0a68b78b-6982-49ba-9533-3c1ec492cf69"
      },
      "execution_count": 17,
      "outputs": [
        {
          "output_type": "stream",
          "name": "stdout",
          "text": [
            "Orange\n",
            "Orange\n",
            "Orange\n"
          ]
        }
      ]
    },
    {
      "cell_type": "code",
      "source": [
        "# ProgrammeNo:- 10:-\n",
        "fruits = [\"orane\" , \"Banana\" , \"Apple\"]\n",
        "x, y, z = fruits\n",
        "print(x)\n",
        "print(y)\n",
        "print(z)"
      ],
      "metadata": {
        "colab": {
          "base_uri": "https://localhost:8080/"
        },
        "id": "XtyzIROD4XX8",
        "outputId": "9b1aa8d3-ddce-41fc-c479-5293884cfaca"
      },
      "execution_count": 18,
      "outputs": [
        {
          "output_type": "stream",
          "name": "stdout",
          "text": [
            "orane\n",
            "Banana\n",
            "Apple\n"
          ]
        }
      ]
    }
  ]
}